{
 "cells": [
  {
   "cell_type": "code",
   "execution_count": 1,
   "metadata": {},
   "outputs": [],
   "source": [
    "reviews <- read.csv(\"reviews.csv\")"
   ]
  },
  {
   "cell_type": "code",
   "execution_count": 2,
   "metadata": {},
   "outputs": [
    {
     "data": {
      "text/html": [
       "<table>\n",
       "<thead><tr><th scope=col>review_id</th><th scope=col>user_id</th><th scope=col>business_id</th><th scope=col>stars</th><th scope=col>date</th><th scope=col>useful</th><th scope=col>funny</th><th scope=col>cool</th><th scope=col>type</th></tr></thead>\n",
       "<tbody>\n",
       "\t<tr><td>NxL8SIC5yqOdnlXCg18IBg</td><td>KpkOkG6RIf4Ra25Lhhxf1A</td><td>2aFiy99vNLklCx3T_tGS9A</td><td>5                     </td><td>2011-10-10            </td><td>0                     </td><td>0                     </td><td>0                     </td><td>review                </td></tr>\n",
       "\t<tr><td>pXbbIgOXvLuTi_SPs1hQEQ</td><td>bQ7fQq1otn9hKX-gXRsrgA</td><td>2aFiy99vNLklCx3T_tGS9A</td><td>5                     </td><td>2010-12-29            </td><td>1                     </td><td>0                     </td><td>0                     </td><td>review                </td></tr>\n",
       "\t<tr><td>wslW2Lu4NYylb1jEapAGsw</td><td>r1NUhdNmL6yU9Bn-Yx6FTw</td><td>2aFiy99vNLklCx3T_tGS9A</td><td>5                     </td><td>2011-04-29            </td><td>0                     </td><td>0                     </td><td>0                     </td><td>review                </td></tr>\n",
       "\t<tr><td>GP6YEearUWrzPtQYSF1vVg</td><td>aW3ix1KNZAvoM8q-WghA3Q</td><td>2LfIuF3_sX6uwe-IR-P0jQ</td><td>5                     </td><td>2014-07-14            </td><td>0                     </td><td>0                     </td><td>1                     </td><td>review                </td></tr>\n",
       "\t<tr><td>25RlYGq2s5qShi-pn3ufVA</td><td>YOo-Cip8HqvKp_p9nEGphw</td><td>2LfIuF3_sX6uwe-IR-P0jQ</td><td>4                     </td><td>2014-01-15            </td><td>0                     </td><td>0                     </td><td>0                     </td><td>review                </td></tr>\n",
       "\t<tr><td>Uf1Ki1yyH_JDKhLvn2e4FQ</td><td>bgl3j8yJcRO-00NkUYsXGQ</td><td>2LfIuF3_sX6uwe-IR-P0jQ</td><td>5                     </td><td>2013-04-28            </td><td>2                     </td><td>0                     </td><td>1                     </td><td>review                </td></tr>\n",
       "</tbody>\n",
       "</table>\n"
      ],
      "text/latex": [
       "\\begin{tabular}{r|lllllllll}\n",
       " review\\_id & user\\_id & business\\_id & stars & date & useful & funny & cool & type\\\\\n",
       "\\hline\n",
       "\t NxL8SIC5yqOdnlXCg18IBg   & KpkOkG6RIf4Ra25Lhhxf1A   & 2aFiy99vNLklCx3T\\_tGS9A & 5                        & 2011-10-10               & 0                        & 0                        & 0                        & review                  \\\\\n",
       "\t pXbbIgOXvLuTi\\_SPs1hQEQ & bQ7fQq1otn9hKX-gXRsrgA   & 2aFiy99vNLklCx3T\\_tGS9A & 5                        & 2010-12-29               & 1                        & 0                        & 0                        & review                  \\\\\n",
       "\t wslW2Lu4NYylb1jEapAGsw   & r1NUhdNmL6yU9Bn-Yx6FTw   & 2aFiy99vNLklCx3T\\_tGS9A & 5                        & 2011-04-29               & 0                        & 0                        & 0                        & review                  \\\\\n",
       "\t GP6YEearUWrzPtQYSF1vVg   & aW3ix1KNZAvoM8q-WghA3Q   & 2LfIuF3\\_sX6uwe-IR-P0jQ & 5                        & 2014-07-14               & 0                        & 0                        & 1                        & review                  \\\\\n",
       "\t 25RlYGq2s5qShi-pn3ufVA   & YOo-Cip8HqvKp\\_p9nEGphw & 2LfIuF3\\_sX6uwe-IR-P0jQ & 4                        & 2014-01-15               & 0                        & 0                        & 0                        & review                  \\\\\n",
       "\t Uf1Ki1yyH\\_JDKhLvn2e4FQ & bgl3j8yJcRO-00NkUYsXGQ   & 2LfIuF3\\_sX6uwe-IR-P0jQ & 5                        & 2013-04-28               & 2                        & 0                        & 1                        & review                  \\\\\n",
       "\\end{tabular}\n"
      ],
      "text/markdown": [
       "\n",
       "review_id | user_id | business_id | stars | date | useful | funny | cool | type | \n",
       "|---|---|---|---|---|---|\n",
       "| NxL8SIC5yqOdnlXCg18IBg | KpkOkG6RIf4Ra25Lhhxf1A | 2aFiy99vNLklCx3T_tGS9A | 5                      | 2011-10-10             | 0                      | 0                      | 0                      | review                 | \n",
       "| pXbbIgOXvLuTi_SPs1hQEQ | bQ7fQq1otn9hKX-gXRsrgA | 2aFiy99vNLklCx3T_tGS9A | 5                      | 2010-12-29             | 1                      | 0                      | 0                      | review                 | \n",
       "| wslW2Lu4NYylb1jEapAGsw | r1NUhdNmL6yU9Bn-Yx6FTw | 2aFiy99vNLklCx3T_tGS9A | 5                      | 2011-04-29             | 0                      | 0                      | 0                      | review                 | \n",
       "| GP6YEearUWrzPtQYSF1vVg | aW3ix1KNZAvoM8q-WghA3Q | 2LfIuF3_sX6uwe-IR-P0jQ | 5                      | 2014-07-14             | 0                      | 0                      | 1                      | review                 | \n",
       "| 25RlYGq2s5qShi-pn3ufVA | YOo-Cip8HqvKp_p9nEGphw | 2LfIuF3_sX6uwe-IR-P0jQ | 4                      | 2014-01-15             | 0                      | 0                      | 0                      | review                 | \n",
       "| Uf1Ki1yyH_JDKhLvn2e4FQ | bgl3j8yJcRO-00NkUYsXGQ | 2LfIuF3_sX6uwe-IR-P0jQ | 5                      | 2013-04-28             | 2                      | 0                      | 1                      | review                 | \n",
       "\n",
       "\n"
      ],
      "text/plain": [
       "  review_id              user_id                business_id            stars\n",
       "1 NxL8SIC5yqOdnlXCg18IBg KpkOkG6RIf4Ra25Lhhxf1A 2aFiy99vNLklCx3T_tGS9A 5    \n",
       "2 pXbbIgOXvLuTi_SPs1hQEQ bQ7fQq1otn9hKX-gXRsrgA 2aFiy99vNLklCx3T_tGS9A 5    \n",
       "3 wslW2Lu4NYylb1jEapAGsw r1NUhdNmL6yU9Bn-Yx6FTw 2aFiy99vNLklCx3T_tGS9A 5    \n",
       "4 GP6YEearUWrzPtQYSF1vVg aW3ix1KNZAvoM8q-WghA3Q 2LfIuF3_sX6uwe-IR-P0jQ 5    \n",
       "5 25RlYGq2s5qShi-pn3ufVA YOo-Cip8HqvKp_p9nEGphw 2LfIuF3_sX6uwe-IR-P0jQ 4    \n",
       "6 Uf1Ki1yyH_JDKhLvn2e4FQ bgl3j8yJcRO-00NkUYsXGQ 2LfIuF3_sX6uwe-IR-P0jQ 5    \n",
       "  date       useful funny cool type  \n",
       "1 2011-10-10 0      0     0    review\n",
       "2 2010-12-29 1      0     0    review\n",
       "3 2011-04-29 0      0     0    review\n",
       "4 2014-07-14 0      0     1    review\n",
       "5 2014-01-15 0      0     0    review\n",
       "6 2013-04-28 2      0     1    review"
      ]
     },
     "metadata": {},
     "output_type": "display_data"
    }
   ],
   "source": [
    "head(reviews)"
   ]
  },
  {
   "cell_type": "code",
   "execution_count": 3,
   "metadata": {},
   "outputs": [
    {
     "data": {
      "text/plain": [
       "                  review_id                    user_id  \n",
       " -6wjE08Pf8oWrZQQocEgHg: 1   1-xPzJk_ijBvY2J8Re1DIQ: 1  \n",
       " -K5z7DzXHJgEC1tsTLfFeA: 1   29rUYREQxeFE6LWGnirgew: 1  \n",
       " _a7Zu2ZSEGO4bl2gvu7OtQ: 1   2N9wrn5A37aOXDrBPIYQdA: 1  \n",
       " 0-emituHrxFvtYJZVhr2tA: 1   57w8gLY3f7OwGmWNtUIFIA: 1  \n",
       " 25RlYGq2s5qShi-pn3ufVA: 1   5NDk-q5mv8PIDvz83HwMVg: 1  \n",
       " 2tjghSImOPf4A9L4zhByRQ: 1   7LCG3o2KW2jgKgbKN0DQOg: 1  \n",
       " (Other)               :52   (Other)               :52  \n",
       "                 business_id     stars               date        useful     \n",
       " 0czfEgv9KAD4VlIa7ANPWQ:10   Min.   :1.000   2014-08-23: 2   Min.   :0.000  \n",
       " 2aFiy99vNLklCx3T_tGS9A: 3   1st Qu.:3.000   2007-03-04: 1   1st Qu.:0.000  \n",
       " 2LfIuF3_sX6uwe-IR-P0jQ:15   Median :4.000   2007-12-15: 1   Median :0.000  \n",
       " 4P-vTvE6cncJyUyLh73pxw:23   Mean   :3.569   2009-01-30: 1   Mean   :0.931  \n",
       " 4uiijOUDzc-DeIb2XcKW_A: 4   3rd Qu.:5.000   2009-02-01: 1   3rd Qu.:1.000  \n",
       " 7GI_V9oLCUGdn2ogqB0IBg: 3   Max.   :5.000   2009-04-10: 1   Max.   :7.000  \n",
       "                                             (Other)   :51                  \n",
       "     funny             cool            type   \n",
       " Min.   :0.0000   Min.   :0.0000   review:58  \n",
       " 1st Qu.:0.0000   1st Qu.:0.0000              \n",
       " Median :0.0000   Median :0.0000              \n",
       " Mean   :0.5517   Mean   :0.5172              \n",
       " 3rd Qu.:0.7500   3rd Qu.:1.0000              \n",
       " Max.   :7.0000   Max.   :6.0000              \n",
       "                                              "
      ]
     },
     "metadata": {},
     "output_type": "display_data"
    }
   ],
   "source": [
    "summary(reviews)"
   ]
  },
  {
   "cell_type": "code",
   "execution_count": 4,
   "metadata": {},
   "outputs": [
    {
     "data": {
      "image/png": "[encoded data removed]",
      "text/plain": [
       "Plot with title \"Histogram of reviews$stars\""
      ]
     },
     "metadata": {},
     "output_type": "display_data"
    }
   ],
   "source": [
    "hist(reviews$stars)"
   ]
  },
  {
   "cell_type": "code",
   "execution_count": 7,
   "metadata": {},
   "outputs": [
    {
     "name": "stderr",
     "output_type": "stream",
     "text": [
      "Warning message:\n",
      "\"package 'sqldf' is in use and will not be installed\""
     ]
    },
    {
     "data": {
      "text/html": [
       "<table>\n",
       "<thead><tr><th scope=col>business_id</th><th scope=col>count(*)</th></tr></thead>\n",
       "<tbody>\n",
       "\t<tr><td>2LfIuF3_sX6uwe-IR-P0jQ</td><td>9                     </td></tr>\n",
       "\t<tr><td>2aFiy99vNLklCx3T_tGS9A</td><td>3                     </td></tr>\n",
       "\t<tr><td>4P-vTvE6cncJyUyLh73pxw</td><td>3                     </td></tr>\n",
       "\t<tr><td>0czfEgv9KAD4VlIa7ANPWQ</td><td>2                     </td></tr>\n",
       "\t<tr><td>7GI_V9oLCUGdn2ogqB0IBg</td><td>2                     </td></tr>\n",
       "</tbody>\n",
       "</table>\n"
      ],
      "text/latex": [
       "\\begin{tabular}{r|ll}\n",
       " business\\_id & count(*)\\\\\n",
       "\\hline\n",
       "\t 2LfIuF3\\_sX6uwe-IR-P0jQ & 9                       \\\\\n",
       "\t 2aFiy99vNLklCx3T\\_tGS9A & 3                       \\\\\n",
       "\t 4P-vTvE6cncJyUyLh73pxw & 3                     \\\\\n",
       "\t 0czfEgv9KAD4VlIa7ANPWQ & 2                     \\\\\n",
       "\t 7GI\\_V9oLCUGdn2ogqB0IBg & 2                       \\\\\n",
       "\\end{tabular}\n"
      ],
      "text/markdown": [
       "\n",
       "business_id | count(*) | \n",
       "|---|---|---|---|---|\n",
       "| 2LfIuF3_sX6uwe-IR-P0jQ | 9                      | \n",
       "| 2aFiy99vNLklCx3T_tGS9A | 3                      | \n",
       "| 4P-vTvE6cncJyUyLh73pxw | 3                      | \n",
       "| 0czfEgv9KAD4VlIa7ANPWQ | 2                      | \n",
       "| 7GI_V9oLCUGdn2ogqB0IBg | 2                      | \n",
       "\n",
       "\n"
      ],
      "text/plain": [
       "  business_id            count(*)\n",
       "1 2LfIuF3_sX6uwe-IR-P0jQ 9       \n",
       "2 2aFiy99vNLklCx3T_tGS9A 3       \n",
       "3 4P-vTvE6cncJyUyLh73pxw 3       \n",
       "4 0czfEgv9KAD4VlIa7ANPWQ 2       \n",
       "5 7GI_V9oLCUGdn2ogqB0IBg 2       "
      ]
     },
     "metadata": {},
     "output_type": "display_data"
    }
   ],
   "source": [
    "install.packages(\"sqldf\", repos='http://cran.us.r-project.org')\n",
    "library(sqldf)\n",
    "five_stars = sqldf(\"select business_id, count(*) from reviews where stars =\n",
    "5 group by business_id order by 2 desc\")\n",
    "head(five_stars)"
   ]
  },
  {
   "cell_type": "code",
   "execution_count": 10,
   "metadata": {},
   "outputs": [
    {
     "data": {
      "text/html": [
       "<table>\n",
       "<thead><tr><th scope=col>business_id</th><th scope=col>count(*)</th></tr></thead>\n",
       "<tbody>\n",
       "\t<tr><td>4P-vTvE6cncJyUyLh73pxw</td><td>23                    </td></tr>\n",
       "\t<tr><td>2LfIuF3_sX6uwe-IR-P0jQ</td><td>15                    </td></tr>\n",
       "\t<tr><td>0czfEgv9KAD4VlIa7ANPWQ</td><td>10                    </td></tr>\n",
       "\t<tr><td>4uiijOUDzc-DeIb2XcKW_A</td><td> 4                    </td></tr>\n",
       "\t<tr><td>2aFiy99vNLklCx3T_tGS9A</td><td> 3                    </td></tr>\n",
       "\t<tr><td>7GI_V9oLCUGdn2ogqB0IBg</td><td> 3                    </td></tr>\n",
       "</tbody>\n",
       "</table>\n"
      ],
      "text/latex": [
       "\\begin{tabular}{r|ll}\n",
       " business\\_id & count(*)\\\\\n",
       "\\hline\n",
       "\t 4P-vTvE6cncJyUyLh73pxw & 23                    \\\\\n",
       "\t 2LfIuF3\\_sX6uwe-IR-P0jQ & 15                      \\\\\n",
       "\t 0czfEgv9KAD4VlIa7ANPWQ & 10                    \\\\\n",
       "\t 4uiijOUDzc-DeIb2XcKW\\_A &  4                      \\\\\n",
       "\t 2aFiy99vNLklCx3T\\_tGS9A &  3                      \\\\\n",
       "\t 7GI\\_V9oLCUGdn2ogqB0IBg &  3                      \\\\\n",
       "\\end{tabular}\n"
      ],
      "text/markdown": [
       "\n",
       "business_id | count(*) | \n",
       "|---|---|---|---|---|---|\n",
       "| 4P-vTvE6cncJyUyLh73pxw | 23                     | \n",
       "| 2LfIuF3_sX6uwe-IR-P0jQ | 15                     | \n",
       "| 0czfEgv9KAD4VlIa7ANPWQ | 10                     | \n",
       "| 4uiijOUDzc-DeIb2XcKW_A |  4                     | \n",
       "| 2aFiy99vNLklCx3T_tGS9A |  3                     | \n",
       "| 7GI_V9oLCUGdn2ogqB0IBg |  3                     | \n",
       "\n",
       "\n"
      ],
      "text/plain": [
       "  business_id            count(*)\n",
       "1 4P-vTvE6cncJyUyLh73pxw 23      \n",
       "2 2LfIuF3_sX6uwe-IR-P0jQ 15      \n",
       "3 0czfEgv9KAD4VlIa7ANPWQ 10      \n",
       "4 4uiijOUDzc-DeIb2XcKW_A  4      \n",
       "5 2aFiy99vNLklCx3T_tGS9A  3      \n",
       "6 7GI_V9oLCUGdn2ogqB0IBg  3      "
      ]
     },
     "metadata": {},
     "output_type": "display_data"
    }
   ],
   "source": [
    "library(sqldf)\n",
    "most_ratings = sqldf(\"select business_id, count(*) from reviews group by\n",
    "business_id order by 2 desc\")\n",
    "head(most_ratings)"
   ]
  },
  {
   "cell_type": "code",
   "execution_count": 12,
   "metadata": {},
   "outputs": [
    {
     "data": {
      "text/html": [
       "<table>\n",
       "<thead><tr><th scope=col>stars</th><th scope=col>reviews</th></tr></thead>\n",
       "<tbody>\n",
       "\t<tr><td>1 </td><td> 6</td></tr>\n",
       "\t<tr><td>2 </td><td> 8</td></tr>\n",
       "\t<tr><td>3 </td><td>10</td></tr>\n",
       "\t<tr><td>4 </td><td>15</td></tr>\n",
       "\t<tr><td>5 </td><td>19</td></tr>\n",
       "</tbody>\n",
       "</table>\n"
      ],
      "text/latex": [
       "\\begin{tabular}{r|ll}\n",
       " stars & reviews\\\\\n",
       "\\hline\n",
       "\t 1  &  6\\\\\n",
       "\t 2  &  8\\\\\n",
       "\t 3  & 10\\\\\n",
       "\t 4  & 15\\\\\n",
       "\t 5  & 19\\\\\n",
       "\\end{tabular}\n"
      ],
      "text/markdown": [
       "\n",
       "stars | reviews | \n",
       "|---|---|---|---|---|\n",
       "| 1  |  6 | \n",
       "| 2  |  8 | \n",
       "| 3  | 10 | \n",
       "| 4  | 15 | \n",
       "| 5  | 19 | \n",
       "\n",
       "\n"
      ],
      "text/plain": [
       "  stars reviews\n",
       "1 1      6     \n",
       "2 2      8     \n",
       "3 3     10     \n",
       "4 4     15     \n",
       "5 5     19     "
      ]
     },
     "metadata": {},
     "output_type": "display_data"
    },
    {
     "data": {
      "text/html": [
       "<table>\n",
       "<thead><tr><th></th><th scope=col>stars</th><th scope=col>reviews</th></tr></thead>\n",
       "<tbody>\n",
       "\t<tr><th scope=row>stars</th><td>1.0000000</td><td>0.9808232</td></tr>\n",
       "\t<tr><th scope=row>reviews</th><td>0.9808232</td><td>1.0000000</td></tr>\n",
       "</tbody>\n",
       "</table>\n"
      ],
      "text/latex": [
       "\\begin{tabular}{r|ll}\n",
       "  & stars & reviews\\\\\n",
       "\\hline\n",
       "\tstars & 1.0000000 & 0.9808232\\\\\n",
       "\treviews & 0.9808232 & 1.0000000\\\\\n",
       "\\end{tabular}\n"
      ],
      "text/markdown": [
       "\n",
       "| <!--/--> | stars | reviews | \n",
       "|---|---|\n",
       "| stars | 1.0000000 | 0.9808232 | \n",
       "| reviews | 0.9808232 | 1.0000000 | \n",
       "\n",
       "\n"
      ],
      "text/plain": [
       "        stars     reviews  \n",
       "stars   1.0000000 0.9808232\n",
       "reviews 0.9808232 1.0000000"
      ]
     },
     "metadata": {},
     "output_type": "display_data"
    }
   ],
   "source": [
    "library(sqldf)\n",
    "reviews_stars = sqldf(\"select stars,count(*) as reviews from reviews group\n",
    "by stars\")\n",
    "reviews_stars\n",
    "cor(reviews_stars)"
   ]
  },
  {
   "cell_type": "code",
   "execution_count": 13,
   "metadata": {},
   "outputs": [
    {
     "data": {
      "text/html": [
       "<table>\n",
       "<thead><tr><th scope=col>business_id</th><th scope=col>rating</th></tr></thead>\n",
       "<tbody>\n",
       "\t<tr><td>2aFiy99vNLklCx3T_tGS9A</td><td>5.000000              </td></tr>\n",
       "\t<tr><td>2LfIuF3_sX6uwe-IR-P0jQ</td><td>4.200000              </td></tr>\n",
       "\t<tr><td>7GI_V9oLCUGdn2ogqB0IBg</td><td>3.666667              </td></tr>\n",
       "\t<tr><td>4P-vTvE6cncJyUyLh73pxw</td><td>3.304348              </td></tr>\n",
       "\t<tr><td>0czfEgv9KAD4VlIa7ANPWQ</td><td>3.000000              </td></tr>\n",
       "\t<tr><td>4uiijOUDzc-DeIb2XcKW_A</td><td>3.000000              </td></tr>\n",
       "</tbody>\n",
       "</table>\n"
      ],
      "text/latex": [
       "\\begin{tabular}{r|ll}\n",
       " business\\_id & rating\\\\\n",
       "\\hline\n",
       "\t 2aFiy99vNLklCx3T\\_tGS9A & 5.000000                \\\\\n",
       "\t 2LfIuF3\\_sX6uwe-IR-P0jQ & 4.200000                \\\\\n",
       "\t 7GI\\_V9oLCUGdn2ogqB0IBg & 3.666667                \\\\\n",
       "\t 4P-vTvE6cncJyUyLh73pxw & 3.304348              \\\\\n",
       "\t 0czfEgv9KAD4VlIa7ANPWQ & 3.000000              \\\\\n",
       "\t 4uiijOUDzc-DeIb2XcKW\\_A & 3.000000                \\\\\n",
       "\\end{tabular}\n"
      ],
      "text/markdown": [
       "\n",
       "business_id | rating | \n",
       "|---|---|---|---|---|---|\n",
       "| 2aFiy99vNLklCx3T_tGS9A | 5.000000               | \n",
       "| 2LfIuF3_sX6uwe-IR-P0jQ | 4.200000               | \n",
       "| 7GI_V9oLCUGdn2ogqB0IBg | 3.666667               | \n",
       "| 4P-vTvE6cncJyUyLh73pxw | 3.304348               | \n",
       "| 0czfEgv9KAD4VlIa7ANPWQ | 3.000000               | \n",
       "| 4uiijOUDzc-DeIb2XcKW_A | 3.000000               | \n",
       "\n",
       "\n"
      ],
      "text/plain": [
       "  business_id            rating  \n",
       "1 2aFiy99vNLklCx3T_tGS9A 5.000000\n",
       "2 2LfIuF3_sX6uwe-IR-P0jQ 4.200000\n",
       "3 7GI_V9oLCUGdn2ogqB0IBg 3.666667\n",
       "4 4P-vTvE6cncJyUyLh73pxw 3.304348\n",
       "5 0czfEgv9KAD4VlIa7ANPWQ 3.000000\n",
       "6 4uiijOUDzc-DeIb2XcKW_A 3.000000"
      ]
     },
     "metadata": {},
     "output_type": "display_data"
    },
    {
     "data": {
      "image/png": "[encoded data removed]",
      "text/plain": [
       "Plot with title \"Histogram of business_rating$rating\""
      ]
     },
     "metadata": {},
     "output_type": "display_data"
    }
   ],
   "source": [
    "library(sqldf)\n",
    "business_rating = sqldf(\"select business_id, avg(stars) as rating from\n",
    "reviews group by business_id order by 2 desc\")\n",
    "head(business_rating)\n",
    "hist(business_rating$rating)"
   ]
  },
  {
   "cell_type": "code",
   "execution_count": 14,
   "metadata": {},
   "outputs": [
    {
     "data": {
      "text/plain": [
       "\n",
       "Call:\n",
       "lm(formula = stars ~ funny + useful + cool, data = reviews)\n",
       "\n",
       "Residuals:\n",
       "    Min      1Q  Median      3Q     Max \n",
       "-2.6852 -0.7589  0.3148  1.2333  2.0299 \n",
       "\n",
       "Coefficients:\n",
       "            Estimate Std. Error t value Pr(>|t|)    \n",
       "(Intercept)   3.6852     0.2121  17.375   <2e-16 ***\n",
       "funny        -0.3732     0.2691  -1.387   0.1712    \n",
       "useful       -0.3419     0.2457  -1.391   0.1698    \n",
       "cool          0.7888     0.3288   2.399   0.0199 *  \n",
       "---\n",
       "Signif. codes:  0 '***' 0.001 '**' 0.01 '*' 0.05 '.' 0.1 ' ' 1\n",
       "\n",
       "Residual standard error: 1.305 on 54 degrees of freedom\n",
       "Multiple R-squared:  0.1171,\tAdjusted R-squared:  0.06801 \n",
       "F-statistic: 2.386 on 3 and 54 DF,  p-value: 0.07911\n"
      ]
     },
     "metadata": {},
     "output_type": "display_data"
    }
   ],
   "source": [
    "model <- lm(stars ~ funny + useful + cool, data=reviews)\n",
    "summary(model)"
   ]
  },
  {
   "cell_type": "code",
   "execution_count": null,
   "metadata": {},
   "outputs": [],
   "source": []
  }
 ],
 "metadata": {
  "kernelspec": {
   "display_name": "R",
   "language": "R",
   "name": "ir"
  },
  "language_info": {
   "codemirror_mode": "r",
   "file_extension": ".r",
   "mimetype": "text/x-r-source",
   "name": "R",
   "pygments_lexer": "r",
   "version": "3.4.2"
  }
 },
 "nbformat": 4,
 "nbformat_minor": 2
}
