{
 "cells": [
  {
   "cell_type": "code",
   "execution_count": 2,
   "metadata": {},
   "outputs": [
    {
     "data": {
      "text/plain": [
       "(7.283185307179586, 8.08596002064242e-14)"
      ]
     },
     "execution_count": 2,
     "metadata": {},
     "output_type": "execute_result"
    }
   ],
   "source": [
    "from scipy.integrate import quad\n",
    "import math\n",
    "def integrand(x, a, b):\n",
    "    return a*math.pi + b\n",
    "a = 2\n",
    "b = 1\n",
    "quad(integrand, 0, 1, args=(a, b))"
   ]
  },
  {
   "cell_type": "code",
   "execution_count": 13,
   "metadata": {},
   "outputs": [
    {
     "name": "stdout",
     "output_type": "stream",
     "text": [
      "called with x= 0.5 a =  2 b =  1\n",
      "called with x= 0.013046735741414128 a =  2 b =  1\n",
      "called with x= 0.9869532642585859 a =  2 b =  1\n",
      "called with x= 0.06746831665550773 a =  2 b =  1\n",
      "called with x= 0.9325316833444923 a =  2 b =  1\n",
      "called with x= 0.16029521585048778 a =  2 b =  1\n",
      "called with x= 0.8397047841495122 a =  2 b =  1\n",
      "called with x= 0.2833023029353764 a =  2 b =  1\n",
      "called with x= 0.7166976970646236 a =  2 b =  1\n",
      "called with x= 0.4255628305091844 a =  2 b =  1\n",
      "called with x= 0.5744371694908156 a =  2 b =  1\n",
      "called with x= 0.002171418487095955 a =  2 b =  1\n",
      "called with x= 0.997828581512904 a =  2 b =  1\n",
      "called with x= 0.03492125432214588 a =  2 b =  1\n",
      "called with x= 0.9650787456778541 a =  2 b =  1\n",
      "called with x= 0.10959113670679155 a =  2 b =  1\n",
      "called with x= 0.8904088632932085 a =  2 b =  1\n",
      "called with x= 0.21862143266569767 a =  2 b =  1\n",
      "called with x= 0.7813785673343023 a =  2 b =  1\n",
      "called with x= 0.35280356864926987 a =  2 b =  1\n",
      "called with x= 0.6471964313507301 a =  2 b =  1\n",
      "(7.283185307179586, 8.08596002064242e-14)\n",
      "21\n"
     ]
    }
   ],
   "source": [
    "from scipy.integrate import quad\n",
    "import math\n",
    "counter = 0\n",
    "def integrand(x, a, b):\n",
    "    global counter\n",
    "    counter = counter + 1\n",
    "    print('called with x=',x,'a = ',a,'b = ', b)\n",
    "    return a*math.pi + b\n",
    "\n",
    "a = 2\n",
    "b = 1\n",
    "    \n",
    "print(quad(integrand, 0, 1, args=(a,b)))\n",
    "print(counter)"
   ]
  },
  {
   "cell_type": "code",
   "execution_count": 15,
   "metadata": {},
   "outputs": [
    {
     "data": {
      "image/png": "[encoded data removed]",
      "text/plain": [
       "<matplotlib.figure.Figure at 0x22478102898>"
      ]
     },
     "metadata": {},
     "output_type": "display_data"
    }
   ],
   "source": [
    "%matplotlib inline\n",
    "from scipy import optimize\n",
    "import matplotlib.pyplot as plt\n",
    "import numpy as np \n",
    "def f(x):\n",
    "    return x**4 - x**3 + x**2 + 1\n",
    "x = np.linspace(-100, 50, 100)\n",
    "plt.plot(x, f(x));"
   ]
  },
  {
   "cell_type": "code",
   "execution_count": 17,
   "metadata": {},
   "outputs": [
    {
     "data": {
      "text/plain": [
       "[<matplotlib.lines.Line2D at 0x22478e765c0>]"
      ]
     },
     "execution_count": 17,
     "metadata": {},
     "output_type": "execute_result"
    },
    {
     "data": {
      "image/png": "[encoded data removed]",
      "text/plain": [
       "<matplotlib.figure.Figure at 0x22478dbdeb8>"
      ]
     },
     "metadata": {},
     "output_type": "display_data"
    }
   ],
   "source": [
    "%matplotlib inline\n",
    "import matplotlib.pyplot as plt\n",
    "x = [1, 3, 5, 7]\n",
    "y = [0.5, 0.4, 0.35, 0.29]\n",
    "plt.plot(x,y)"
   ]
  },
  {
   "cell_type": "code",
   "execution_count": 21,
   "metadata": {},
   "outputs": [
    {
     "name": "stdout",
     "output_type": "stream",
     "text": [
      "0.375\n"
     ]
    }
   ],
   "source": [
    "from scipy.interpolate import interp1d\n",
    "g = interp1d(x, y)\n",
    "print(g(4))"
   ]
  },
  {
   "cell_type": "code",
   "execution_count": 22,
   "metadata": {},
   "outputs": [
    {
     "data": {
      "text/plain": [
       "array([ 8.0+0.j        ,  0.5+0.36327126j,  0.5+1.53884177j,\n",
       "        0.5-1.53884177j,  0.5-0.36327126j])"
      ]
     },
     "execution_count": 22,
     "metadata": {},
     "output_type": "execute_result"
    }
   ],
   "source": [
    "from scipy.fftpack import fft\n",
    "import numpy as np\n",
    "x = np.array([2.0, 1.0, 2.0, 1.0, 2.0])\n",
    "fft(x)"
   ]
  },
  {
   "cell_type": "code",
   "execution_count": 25,
   "metadata": {},
   "outputs": [
    {
     "data": {
      "image/png": "[encoded data removed]",
      "text/plain": [
       "<matplotlib.figure.Figure at 0x2247936b2e8>"
      ]
     },
     "metadata": {},
     "output_type": "display_data"
    }
   ],
   "source": [
    "from scipy.fftpack import fft\n",
    "import numpy as np\n",
    "n = 100\n",
    "spacing = 1.0 / 250.0\n",
    "x = np.linspace(0.0, n*spacing, n)\n",
    "y = np.sin(30.0 * np.pi * x) + 0.5 * np.sin(7.0 * np.pi * x)\n",
    "yf = fft(y)\n",
    "xf = np.linspace(0.0, 1.0 / (2.0 * spacing), n//2)\n",
    "import matplotlib.pyplot as plt\n",
    "plt.plot(xf, 2.0 / n * np.abs(yf[0:n//2]))\n",
    "plt.grid()\n",
    "plt.show()\n"
   ]
  },
  {
   "cell_type": "code",
   "execution_count": 27,
   "metadata": {},
   "outputs": [
    {
     "name": "stdout",
     "output_type": "stream",
     "text": [
      "a array\n",
      "[[1 1]\n",
      " [2 3]]\n",
      "b array\n",
      "[[1]\n",
      " [2]]\n",
      "solution\n",
      "[[ 1.]\n",
      " [-0.]]\n",
      "validation of solution (should be a 0 matrix)\n",
      "[[ 0.]\n",
      " [ 0.]]\n"
     ]
    }
   ],
   "source": [
    "import numpy as np\n",
    "from scipy import linalg\n",
    "a = np.array([[1, 1], [2, 3]])\n",
    "print(\"a array\")\n",
    "print(a)\n",
    "b = np.array([[1], [2]])\n",
    "print(\"b array\")\n",
    "print(b)\n",
    "solution = np.linalg.solve(a, b)\n",
    "print(\"solution\")\n",
    "print(solution)\n",
    "# validate results\n",
    "print(\"validation of solution (should be a 0 matrix)\")\n",
    "print(a.dot(solution) - b)"
   ]
  },
  {
   "cell_type": "code",
   "execution_count": null,
   "metadata": {
    "collapsed": true
   },
   "outputs": [],
   "source": []
  }
 ],
 "metadata": {
  "kernelspec": {
   "display_name": "Python 3",
   "language": "python",
   "name": "python3"
  },
  "language_info": {
   "codemirror_mode": {
    "name": "ipython",
    "version": 3
   },
   "file_extension": ".py",
   "mimetype": "text/x-python",
   "name": "python",
   "nbconvert_exporter": "python",
   "pygments_lexer": "ipython3",
   "version": "3.6.3"
  }
 },
 "nbformat": 4,
 "nbformat_minor": 2
}
