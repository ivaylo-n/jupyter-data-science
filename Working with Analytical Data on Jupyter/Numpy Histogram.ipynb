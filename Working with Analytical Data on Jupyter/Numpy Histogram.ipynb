{
 "cells": [
  {
   "cell_type": "code",
   "execution_count": 5,
   "metadata": {},
   "outputs": [
    {
     "name": "stdout",
     "output_type": "stream",
     "text": [
      "Histogrma is  [197 187 201 221 195 221 183 205 194 196]\n",
      "Correlation of the two rows is  [161131]\n"
     ]
    }
   ],
   "source": [
    "import numpy as np\n",
    "import random\n",
    "\n",
    "\n",
    "numbers = np.empty([2, 1000], int)\n",
    "\n",
    "random.seed(137)\n",
    "\n",
    "for num in range(0, 1000):\n",
    "    numbers[0, num] = random.randint(0, 1000)\n",
    "    numbers[1, num] = random.randint(0, 1000)\n",
    "\n",
    "(hist, bins) = np.histogram(numbers, bins = 10, range = (0, 1000))\n",
    "print(\"Histogrma is \",hist)\n",
    "\n",
    "corrs = np.correlate(numbers[:,1], numbers[:,2], mode='valid')\n",
    "print(\"Correlation of the two rows is \", corrs)\n"
   ]
  },
  {
   "cell_type": "code",
   "execution_count": null,
   "metadata": {
    "collapsed": true
   },
   "outputs": [],
   "source": []
  }
 ],
 "metadata": {
  "kernelspec": {
   "display_name": "Python 3",
   "language": "python",
   "name": "python3"
  },
  "language_info": {
   "codemirror_mode": {
    "name": "ipython",
    "version": 3
   },
   "file_extension": ".py",
   "mimetype": "text/x-python",
   "name": "python",
   "nbconvert_exporter": "python",
   "pygments_lexer": "ipython3",
   "version": "3.6.3"
  }
 },
 "nbformat": 4,
 "nbformat_minor": 2
}
